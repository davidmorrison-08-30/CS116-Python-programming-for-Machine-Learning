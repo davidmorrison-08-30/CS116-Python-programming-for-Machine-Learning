{
  "nbformat": 4,
  "nbformat_minor": 0,
  "metadata": {
    "colab": {
      "provenance": [],
      "gpuType": "T4"
    },
    "kernelspec": {
      "name": "python3",
      "display_name": "Python 3"
    },
    "language_info": {
      "name": "python"
    },
    "accelerator": "GPU"
  },
  "cells": [
    {
      "cell_type": "markdown",
      "source": [
        "# **IMPORT NECESSARY LIBRARIES**"
      ],
      "metadata": {
        "id": "RgFyso4tyERL"
      }
    },
    {
      "cell_type": "code",
      "execution_count": null,
      "metadata": {
        "id": "SDFE2PJsnXua"
      },
      "outputs": [],
      "source": [
        "from keras.layers import Input, Dense, Conv2D, MaxPooling2D, Flatten\n",
        "from keras.models import load_model, Model\n",
        "import tensorflow as tf\n",
        "import keras\n",
        "\n",
        "from keras.layers import Input, Dense, Conv2D, MaxPooling2D, Flatten, Add, AveragePooling2D\n",
        "from keras.models import load_model, Model\n",
        "\n",
        "from keras.datasets import mnist\n",
        "from collections import Counter\n",
        "\n",
        "import numpy as np\n",
        "\n",
        "from sklearn import preprocessing\n",
        "import matplotlib.pyplot as plt\n",
        "from sklearn.metrics import confusion_matrix, accuracy_score, ConfusionMatrixDisplay, f1_score\n",
        "from keras.datasets import cifar10\n"
      ]
    },
    {
      "cell_type": "markdown",
      "source": [
        "# **BUILD LENET**"
      ],
      "metadata": {
        "id": "xY1czR4tyIzD"
      }
    },
    {
      "cell_type": "code",
      "source": [
        "class LeNetCNN:\n",
        "  # constructor\n",
        "  def __init__(self):\n",
        "    self.model = None\n",
        "\n",
        "  # Define structure of the CNN\n",
        "  def build(self, input_dim):\n",
        "    input = Input(shape = input_dim) # X dau vao cua minh\n",
        "    C1 = Conv2D(6, (3, 3), padding='same', activation='relu')(input)\n",
        "    S2 = MaxPooling2D(pool_size=(2, 2), padding=\"same\")(C1)\n",
        "    C3 = Conv2D(16, (3, 3), padding='same', activation='relu')(S2)\n",
        "    S4 = MaxPooling2D(pool_size=(2, 2), padding=\"same\")(C3)\n",
        "\n",
        "    flat = Flatten()(S4)\n",
        "    # These like ANN\n",
        "    F5 = Dense(120, activation='relu', use_bias=True)(flat)\n",
        "    F6 = Dense(84, activation='relu', use_bias=True)(F5)\n",
        "    output = Dense(10, activation='softmax', use_bias=True)(F6) # y~ output\n",
        "    self.model = Model(input, output)\n",
        "  \n",
        "  # Train the model\n",
        "  def train(self, x_train, y_train, x_val, y_val): # x_train chinh la X, y_train chinh la ground-truth\n",
        "    sgd = keras.optimizers.SGD(learning_rate=0.01)\n",
        "    adam = keras.optimizers.Adam(learning_rate=0.01)\n",
        "    self.model.compile(optimizer=sgd, loss = 'categorical_crossentropy', metrics=['accuracy'])\n",
        "    self.model.fit(x_train, y_train, validation_data = (x_val, y_val), epochs = 50, batch_size = 128)\n",
        "  \n",
        "  # Load model from file\n",
        "  def load(self, model_file):\n",
        "    self.model = load_model(model_file)\n",
        "  \n",
        "  # save the trained model\n",
        "  def save(self, model_file):\n",
        "    self.model.save(model_file)\n",
        "  \n",
        "  # Show the architecture of the model\n",
        "  def summary(self):\n",
        "    self.model.summary()\n",
        "\n",
        "  # Test the model with a given input\n",
        "  def predict(self, x_test):\n",
        "    return self.model.predict(x_test)\n"
      ],
      "metadata": {
        "id": "AxNi_RJqnp1i"
      },
      "execution_count": null,
      "outputs": []
    },
    {
      "cell_type": "markdown",
      "source": [
        "# **BUILD DELTA VARIANT OF LENET**"
      ],
      "metadata": {
        "id": "5smq1FfwyL_y"
      }
    },
    {
      "cell_type": "code",
      "source": [
        "class DeltaCNN:\n",
        "  # constructor\n",
        "  def __init__(self):\n",
        "    self.model = None\n",
        "\n",
        "  # Define structure of the CNN\n",
        "  def build(self, input_dim):\n",
        "    input = Input(shape = input_dim) # X dau vao cua minh\n",
        "    \n",
        "    C1 = Conv2D(8, (3, 3), padding='same', activation='relu')(input)\n",
        "    S2 = MaxPooling2D(pool_size=(2, 2), padding=\"same\")(C1)\n",
        "\n",
        "    C3 = Conv2D(8, (3, 3), padding='same', activation='relu')(S2)\n",
        "    C4 = Conv2D(8, (3, 3), padding='same', activation='relu')(C3)\n",
        "    C5 = Add()([C4, S2])\n",
        "\n",
        "    C6= Conv2D(16, (3, 3), strides = (2,2), padding='same', activation='relu')(C5)\n",
        "    C7 = Conv2D(16, (3, 3), padding='same', activation='relu')(C6)\n",
        "    C8 = Conv2D(16, (3, 3), padding='same', activation='relu')(C7)\n",
        "    C9 = Add()([C8, C6])\n",
        "\n",
        "    P10 = AveragePooling2D()(C9)\n",
        "    flat = Flatten()(P10)\n",
        "    F0 = Dense(400, activation='sigmoid', use_bias=True)(flat)\n",
        "    output = Dense(10, activation='softmax', use_bias=True)(F0)\n",
        "\n",
        "    self.model = Model(input, output)\n",
        "    self.model.compile(optimizer=\"adam\", loss = 'categorical_crossentropy', metrics=['accuracy'])\n",
        "  \n",
        "  # Train the model\n",
        "  def train(self, x_train, y_train, x_val, y_val): # x_train chinh la X, y_train chinh la ground-truthewedsdAQ  a QA\n",
        "    self.model.fit(x_train, y_train, validation_data = (x_val, y_val), epochs = 50, batch_size = 128)\n",
        "  \n",
        "  # Load model from file\n",
        "  def load(self, model_file):\n",
        "    self.model = load_model(model_file)\n",
        "  \n",
        "  # save the trained model\n",
        "  def save(self, model_file):\n",
        "    self.model.save(model_file)\n",
        "  \n",
        "  # Show the architecture of the model\n",
        "  def summary(self):\n",
        "    self.model.summary()\n",
        "\n",
        "  # Test the model with a given input\n",
        "  def predict(self, x_test):\n",
        "    return self.model.predict(x_test)\n",
        "     \n"
      ],
      "metadata": {
        "id": "l9zqPbCaoe_T"
      },
      "execution_count": null,
      "outputs": []
    },
    {
      "cell_type": "markdown",
      "source": [
        "# **SOME FUNCTIONS FOR DATA PREPROCESSING**"
      ],
      "metadata": {
        "id": "u28XmFHwyZEt"
      }
    },
    {
      "cell_type": "code",
      "source": [
        "def onehot(y):\n",
        "  oh = np.zeros((y.shape[0], 10))\n",
        "  for i in range(y.shape[0]):\n",
        "    oh[i, int(y[i])]=1\n",
        "  return oh"
      ],
      "metadata": {
        "id": "AUiWaZNoou_C"
      },
      "execution_count": null,
      "outputs": []
    },
    {
      "cell_type": "code",
      "source": [
        "def norm_zero_one(x_train):\n",
        "  min_val = np.min(x_train)\n",
        "  max_val = np.max(x_train)\n",
        "  x_train_norm = (x_train-min_val)/(max_val-min_val)\n",
        "  return x_train_norm\n",
        "\n",
        "def norm_normal_dist(x_train):\n",
        "  mean_val = np.mean(x_train)\n",
        "  std_val = np.std(x_train)\n",
        "  x_train_norm = (x_train-mean_val)/std_val\n",
        "  return x_train_norm"
      ],
      "metadata": {
        "id": "nZtWS-jlpBj_"
      },
      "execution_count": null,
      "outputs": []
    },
    {
      "cell_type": "markdown",
      "source": [
        "# **TRAIN AND TEST ON MNIST DATASET**"
      ],
      "metadata": {
        "id": "x-BWGuG4yP2_"
      }
    },
    {
      "cell_type": "code",
      "source": [
        "(x_train, y_train), (x_test, y_test) = mnist.load_data()"
      ],
      "metadata": {
        "colab": {
          "base_uri": "https://localhost:8080/"
        },
        "id": "6HI5pWqRokU2",
        "outputId": "a1537575-65db-4d59-9a4b-8d13f5c40436"
      },
      "execution_count": null,
      "outputs": [
        {
          "output_type": "stream",
          "name": "stdout",
          "text": [
            "Downloading data from https://storage.googleapis.com/tensorflow/tf-keras-datasets/mnist.npz\n",
            "11490434/11490434 [==============================] - 2s 0us/step\n"
          ]
        }
      ]
    },
    {
      "cell_type": "code",
      "source": [
        "print(x_train.shape)\n",
        "print(y_train.shape)\n",
        "print(x_test.shape)\n",
        "print(y_test.shape)"
      ],
      "metadata": {
        "colab": {
          "base_uri": "https://localhost:8080/"
        },
        "id": "pAXr28tkohtI",
        "outputId": "d543aa23-b49a-40c0-cc11-e05776b0fc49"
      },
      "execution_count": null,
      "outputs": [
        {
          "output_type": "stream",
          "name": "stdout",
          "text": [
            "(60000, 28, 28)\n",
            "(60000,)\n",
            "(10000, 28, 28)\n",
            "(10000,)\n"
          ]
        }
      ]
    },
    {
      "cell_type": "code",
      "source": [
        "counter = Counter(y_train).most_common(3)"
      ],
      "metadata": {
        "id": "J50O-YHDojcJ"
      },
      "execution_count": null,
      "outputs": []
    },
    {
      "cell_type": "code",
      "source": [
        "y_train_oh = onehot(y_train)\n",
        "y_train_oh.shape\n",
        "\n",
        "y_test_oh = onehot(y_test)\n",
        "y_test_oh.shape\n",
        "\n",
        "x_train_norm = x_train / 255.0\n",
        "x_test_norm = x_test / 255.0"
      ],
      "metadata": {
        "id": "tL22X--_pIRU"
      },
      "execution_count": null,
      "outputs": []
    },
    {
      "cell_type": "code",
      "source": [
        "x_train_norm.shape"
      ],
      "metadata": {
        "colab": {
          "base_uri": "https://localhost:8080/"
        },
        "id": "3H8fKwFVpK0M",
        "outputId": "2ec4c4f2-d256-4505-e408-9e7cc3d3e6dd"
      },
      "execution_count": null,
      "outputs": [
        {
          "output_type": "execute_result",
          "data": {
            "text/plain": [
              "(60000, 28, 28)"
            ]
          },
          "metadata": {},
          "execution_count": 10
        }
      ]
    },
    {
      "cell_type": "code",
      "source": [
        "cnn = DeltaCNN()\n",
        "cnn.build((28, 28, 1))\n",
        "cnn.summary()\n",
        "cnn.train(x_train_norm, y_train_oh, x_test_norm, y_test_oh)"
      ],
      "metadata": {
        "colab": {
          "base_uri": "https://localhost:8080/"
        },
        "id": "ZFHNpgGepM5I",
        "outputId": "89c535b9-e3d7-44e6-d3b8-ad0f8cb5e544"
      },
      "execution_count": null,
      "outputs": [
        {
          "output_type": "stream",
          "name": "stdout",
          "text": [
            "Model: \"model\"\n",
            "__________________________________________________________________________________________________\n",
            " Layer (type)                   Output Shape         Param #     Connected to                     \n",
            "==================================================================================================\n",
            " input_1 (InputLayer)           [(None, 28, 28, 1)]  0           []                               \n",
            "                                                                                                  \n",
            " conv2d (Conv2D)                (None, 28, 28, 8)    80          ['input_1[0][0]']                \n",
            "                                                                                                  \n",
            " max_pooling2d (MaxPooling2D)   (None, 14, 14, 8)    0           ['conv2d[0][0]']                 \n",
            "                                                                                                  \n",
            " conv2d_1 (Conv2D)              (None, 14, 14, 8)    584         ['max_pooling2d[0][0]']          \n",
            "                                                                                                  \n",
            " conv2d_2 (Conv2D)              (None, 14, 14, 8)    584         ['conv2d_1[0][0]']               \n",
            "                                                                                                  \n",
            " add (Add)                      (None, 14, 14, 8)    0           ['conv2d_2[0][0]',               \n",
            "                                                                  'max_pooling2d[0][0]']          \n",
            "                                                                                                  \n",
            " conv2d_3 (Conv2D)              (None, 7, 7, 16)     1168        ['add[0][0]']                    \n",
            "                                                                                                  \n",
            " conv2d_4 (Conv2D)              (None, 7, 7, 16)     2320        ['conv2d_3[0][0]']               \n",
            "                                                                                                  \n",
            " conv2d_5 (Conv2D)              (None, 7, 7, 16)     2320        ['conv2d_4[0][0]']               \n",
            "                                                                                                  \n",
            " add_1 (Add)                    (None, 7, 7, 16)     0           ['conv2d_5[0][0]',               \n",
            "                                                                  'conv2d_3[0][0]']               \n",
            "                                                                                                  \n",
            " average_pooling2d (AveragePool  (None, 3, 3, 16)    0           ['add_1[0][0]']                  \n",
            " ing2D)                                                                                           \n",
            "                                                                                                  \n",
            " flatten (Flatten)              (None, 144)          0           ['average_pooling2d[0][0]']      \n",
            "                                                                                                  \n",
            " dense (Dense)                  (None, 400)          58000       ['flatten[0][0]']                \n",
            "                                                                                                  \n",
            " dense_1 (Dense)                (None, 10)           4010        ['dense[0][0]']                  \n",
            "                                                                                                  \n",
            "==================================================================================================\n",
            "Total params: 69,066\n",
            "Trainable params: 69,066\n",
            "Non-trainable params: 0\n",
            "__________________________________________________________________________________________________\n",
            "Epoch 1/50\n",
            "469/469 [==============================] - 18s 7ms/step - loss: 0.4914 - accuracy: 0.8437 - val_loss: 0.1536 - val_accuracy: 0.9515\n",
            "Epoch 2/50\n",
            "469/469 [==============================] - 3s 6ms/step - loss: 0.1212 - accuracy: 0.9623 - val_loss: 0.0883 - val_accuracy: 0.9719\n",
            "Epoch 3/50\n",
            "469/469 [==============================] - 3s 7ms/step - loss: 0.0794 - accuracy: 0.9761 - val_loss: 0.0724 - val_accuracy: 0.9770\n",
            "Epoch 4/50\n",
            "469/469 [==============================] - 3s 6ms/step - loss: 0.0639 - accuracy: 0.9798 - val_loss: 0.0530 - val_accuracy: 0.9825\n",
            "Epoch 5/50\n",
            "469/469 [==============================] - 3s 6ms/step - loss: 0.0505 - accuracy: 0.9845 - val_loss: 0.0452 - val_accuracy: 0.9861\n",
            "Epoch 6/50\n",
            "469/469 [==============================] - 3s 6ms/step - loss: 0.0429 - accuracy: 0.9866 - val_loss: 0.0382 - val_accuracy: 0.9881\n",
            "Epoch 7/50\n",
            "469/469 [==============================] - 4s 8ms/step - loss: 0.0393 - accuracy: 0.9876 - val_loss: 0.0376 - val_accuracy: 0.9877\n",
            "Epoch 8/50\n",
            "469/469 [==============================] - 3s 6ms/step - loss: 0.0336 - accuracy: 0.9897 - val_loss: 0.0409 - val_accuracy: 0.9872\n",
            "Epoch 9/50\n",
            "469/469 [==============================] - 3s 6ms/step - loss: 0.0311 - accuracy: 0.9901 - val_loss: 0.0315 - val_accuracy: 0.9894\n",
            "Epoch 10/50\n",
            "469/469 [==============================] - 3s 6ms/step - loss: 0.0274 - accuracy: 0.9911 - val_loss: 0.0318 - val_accuracy: 0.9896\n",
            "Epoch 11/50\n",
            "469/469 [==============================] - 3s 7ms/step - loss: 0.0255 - accuracy: 0.9923 - val_loss: 0.0313 - val_accuracy: 0.9902\n",
            "Epoch 12/50\n",
            "469/469 [==============================] - 3s 6ms/step - loss: 0.0232 - accuracy: 0.9928 - val_loss: 0.0302 - val_accuracy: 0.9903\n",
            "Epoch 13/50\n",
            "469/469 [==============================] - 3s 6ms/step - loss: 0.0226 - accuracy: 0.9926 - val_loss: 0.0283 - val_accuracy: 0.9908\n",
            "Epoch 14/50\n",
            "469/469 [==============================] - 3s 6ms/step - loss: 0.0189 - accuracy: 0.9942 - val_loss: 0.0272 - val_accuracy: 0.9908\n",
            "Epoch 15/50\n",
            "469/469 [==============================] - 4s 8ms/step - loss: 0.0187 - accuracy: 0.9938 - val_loss: 0.0285 - val_accuracy: 0.9915\n",
            "Epoch 16/50\n",
            "469/469 [==============================] - 3s 6ms/step - loss: 0.0137 - accuracy: 0.9958 - val_loss: 0.0303 - val_accuracy: 0.9888\n",
            "Epoch 17/50\n",
            "469/469 [==============================] - 3s 6ms/step - loss: 0.0141 - accuracy: 0.9957 - val_loss: 0.0285 - val_accuracy: 0.9908\n",
            "Epoch 18/50\n",
            "469/469 [==============================] - 3s 6ms/step - loss: 0.0144 - accuracy: 0.9956 - val_loss: 0.0263 - val_accuracy: 0.9910\n",
            "Epoch 19/50\n",
            "469/469 [==============================] - 4s 8ms/step - loss: 0.0123 - accuracy: 0.9962 - val_loss: 0.0295 - val_accuracy: 0.9899\n",
            "Epoch 20/50\n",
            "469/469 [==============================] - 3s 6ms/step - loss: 0.0126 - accuracy: 0.9960 - val_loss: 0.0309 - val_accuracy: 0.9901\n",
            "Epoch 21/50\n",
            "469/469 [==============================] - 3s 6ms/step - loss: 0.0108 - accuracy: 0.9968 - val_loss: 0.0382 - val_accuracy: 0.9880\n",
            "Epoch 22/50\n",
            "469/469 [==============================] - 3s 6ms/step - loss: 0.0107 - accuracy: 0.9968 - val_loss: 0.0340 - val_accuracy: 0.9884\n",
            "Epoch 23/50\n",
            "469/469 [==============================] - 4s 8ms/step - loss: 0.0098 - accuracy: 0.9971 - val_loss: 0.0294 - val_accuracy: 0.9913\n",
            "Epoch 24/50\n",
            "469/469 [==============================] - 3s 6ms/step - loss: 0.0079 - accuracy: 0.9977 - val_loss: 0.0288 - val_accuracy: 0.9914\n",
            "Epoch 25/50\n",
            "469/469 [==============================] - 4s 8ms/step - loss: 0.0093 - accuracy: 0.9970 - val_loss: 0.0276 - val_accuracy: 0.9916\n",
            "Epoch 26/50\n",
            "469/469 [==============================] - 3s 7ms/step - loss: 0.0082 - accuracy: 0.9975 - val_loss: 0.0295 - val_accuracy: 0.9910\n",
            "Epoch 27/50\n",
            "469/469 [==============================] - 4s 8ms/step - loss: 0.0079 - accuracy: 0.9977 - val_loss: 0.0262 - val_accuracy: 0.9925\n",
            "Epoch 28/50\n",
            "469/469 [==============================] - 3s 6ms/step - loss: 0.0076 - accuracy: 0.9977 - val_loss: 0.0293 - val_accuracy: 0.9915\n",
            "Epoch 29/50\n",
            "469/469 [==============================] - 3s 6ms/step - loss: 0.0088 - accuracy: 0.9969 - val_loss: 0.0301 - val_accuracy: 0.9917\n",
            "Epoch 30/50\n",
            "469/469 [==============================] - 3s 6ms/step - loss: 0.0052 - accuracy: 0.9985 - val_loss: 0.0301 - val_accuracy: 0.9922\n",
            "Epoch 31/50\n",
            "469/469 [==============================] - 4s 8ms/step - loss: 0.0064 - accuracy: 0.9979 - val_loss: 0.0302 - val_accuracy: 0.9917\n",
            "Epoch 32/50\n",
            "469/469 [==============================] - 3s 6ms/step - loss: 0.0065 - accuracy: 0.9981 - val_loss: 0.0317 - val_accuracy: 0.9910\n",
            "Epoch 33/50\n",
            "469/469 [==============================] - 3s 6ms/step - loss: 0.0059 - accuracy: 0.9983 - val_loss: 0.0322 - val_accuracy: 0.9917\n",
            "Epoch 34/50\n",
            "469/469 [==============================] - 3s 6ms/step - loss: 0.0057 - accuracy: 0.9982 - val_loss: 0.0346 - val_accuracy: 0.9911\n",
            "Epoch 35/50\n",
            "469/469 [==============================] - 4s 8ms/step - loss: 0.0061 - accuracy: 0.9980 - val_loss: 0.0308 - val_accuracy: 0.9911\n",
            "Epoch 36/50\n",
            "469/469 [==============================] - 3s 6ms/step - loss: 0.0062 - accuracy: 0.9979 - val_loss: 0.0344 - val_accuracy: 0.9912\n",
            "Epoch 37/50\n",
            "469/469 [==============================] - 3s 6ms/step - loss: 0.0029 - accuracy: 0.9992 - val_loss: 0.0326 - val_accuracy: 0.9909\n",
            "Epoch 38/50\n",
            "469/469 [==============================] - 3s 6ms/step - loss: 0.0038 - accuracy: 0.9990 - val_loss: 0.0315 - val_accuracy: 0.9925\n",
            "Epoch 39/50\n",
            "469/469 [==============================] - 4s 8ms/step - loss: 0.0057 - accuracy: 0.9981 - val_loss: 0.0374 - val_accuracy: 0.9903\n",
            "Epoch 40/50\n",
            "469/469 [==============================] - 3s 6ms/step - loss: 0.0083 - accuracy: 0.9974 - val_loss: 0.0304 - val_accuracy: 0.9915\n",
            "Epoch 41/50\n",
            "469/469 [==============================] - 3s 6ms/step - loss: 0.0023 - accuracy: 0.9995 - val_loss: 0.0309 - val_accuracy: 0.9922\n",
            "Epoch 42/50\n",
            "469/469 [==============================] - 3s 6ms/step - loss: 0.0011 - accuracy: 0.9999 - val_loss: 0.0294 - val_accuracy: 0.9928\n",
            "Epoch 43/50\n",
            "469/469 [==============================] - 4s 8ms/step - loss: 0.0054 - accuracy: 0.9981 - val_loss: 0.0354 - val_accuracy: 0.9900\n",
            "Epoch 44/50\n",
            "469/469 [==============================] - 3s 6ms/step - loss: 0.0114 - accuracy: 0.9958 - val_loss: 0.0307 - val_accuracy: 0.9922\n",
            "Epoch 45/50\n",
            "469/469 [==============================] - 3s 6ms/step - loss: 0.0047 - accuracy: 0.9984 - val_loss: 0.0323 - val_accuracy: 0.9920\n",
            "Epoch 46/50\n",
            "469/469 [==============================] - 3s 6ms/step - loss: 0.0023 - accuracy: 0.9994 - val_loss: 0.0354 - val_accuracy: 0.9917\n",
            "Epoch 47/50\n",
            "469/469 [==============================] - 3s 7ms/step - loss: 0.0016 - accuracy: 0.9996 - val_loss: 0.0349 - val_accuracy: 0.9913\n",
            "Epoch 48/50\n",
            "469/469 [==============================] - 3s 6ms/step - loss: 0.0027 - accuracy: 0.9992 - val_loss: 0.0347 - val_accuracy: 0.9917\n",
            "Epoch 49/50\n",
            "469/469 [==============================] - 3s 6ms/step - loss: 0.0100 - accuracy: 0.9962 - val_loss: 0.0333 - val_accuracy: 0.9906\n",
            "Epoch 50/50\n",
            "469/469 [==============================] - 3s 6ms/step - loss: 0.0037 - accuracy: 0.9990 - val_loss: 0.0313 - val_accuracy: 0.9918\n"
          ]
        }
      ]
    },
    {
      "cell_type": "code",
      "source": [
        "cnn.save('delta-variant.h5')"
      ],
      "metadata": {
        "id": "OVar0bBBpOw_"
      },
      "execution_count": null,
      "outputs": []
    },
    {
      "cell_type": "code",
      "source": [
        "new_cnn = DeltaCNN()\n",
        "\n",
        "new_cnn.load('delta-variant.h5')\n",
        "pred = new_cnn.predict(x_test_norm)\n",
        "index = 300\n",
        "plt.imshow(x_test[index])\n",
        "plt.show()\n",
        "print('Predicted label: ', np.argmax(pred[index]))\n",
        "print('Ground-truth label: ', y_test[index])"
      ],
      "metadata": {
        "colab": {
          "base_uri": "https://localhost:8080/",
          "height": 482
        },
        "id": "qCHOS_AFpSKN",
        "outputId": "c807d3e6-f52b-4c26-85c9-c7890d61d35f"
      },
      "execution_count": null,
      "outputs": [
        {
          "output_type": "stream",
          "name": "stdout",
          "text": [
            "313/313 [==============================] - 2s 4ms/step\n"
          ]
        },
        {
          "output_type": "display_data",
          "data": {
            "text/plain": [
              "<Figure size 640x480 with 1 Axes>"
            ],
            "image/png": "[encoded data removed]"
          },
          "metadata": {}
        },
        {
          "output_type": "stream",
          "name": "stdout",
          "text": [
            "Predicted label:  4\n",
            "Ground-truth label:  4\n"
          ]
        }
      ]
    },
    {
      "cell_type": "code",
      "source": [
        "pred = cnn.predict(x_test_norm)\n",
        "test_index = 1234\n",
        "plt.imshow(x_test[test_index])\n",
        "plt.show()\n",
        "print('Predicted label: ', np.argmax(pred[test_index]))\n",
        "print('Ground-truth label: ', y_test[test_index])"
      ],
      "metadata": {
        "colab": {
          "base_uri": "https://localhost:8080/",
          "height": 482
        },
        "id": "wL_ru_wspVlQ",
        "outputId": "2d0d9ece-888d-43d5-ffb8-fa90449e2b9c"
      },
      "execution_count": null,
      "outputs": [
        {
          "output_type": "stream",
          "name": "stdout",
          "text": [
            "313/313 [==============================] - 2s 4ms/step\n"
          ]
        },
        {
          "output_type": "display_data",
          "data": {
            "text/plain": [
              "<Figure size 640x480 with 1 Axes>"
            ],
            "image/png": "[encoded data removed]"
          },
          "metadata": {}
        },
        {
          "output_type": "stream",
          "name": "stdout",
          "text": [
            "Predicted label:  8\n",
            "Ground-truth label:  8\n"
          ]
        }
      ]
    },
    {
      "cell_type": "code",
      "source": [
        "print(pred.shape)\n",
        "print(y_test.shape)\n",
        "y_pred = np.array([np.argmax(i) for i in pred])\n",
        "print(y_pred.shape)"
      ],
      "metadata": {
        "colab": {
          "base_uri": "https://localhost:8080/"
        },
        "id": "bTfOXUfYpZeg",
        "outputId": "73f2147b-5d52-4e9f-8307-a7a0d9269bdf"
      },
      "execution_count": null,
      "outputs": [
        {
          "output_type": "stream",
          "name": "stdout",
          "text": [
            "(10000, 10)\n",
            "(10000,)\n",
            "(10000,)\n"
          ]
        }
      ]
    },
    {
      "cell_type": "code",
      "source": [
        "def accu(y_test, y_pred):\n",
        "  cm = confusion_matrix(y_test, y_pred)\n",
        "  disp = ConfusionMatrixDisplay(confusion_matrix=cm)\n",
        "  disp.plot()\n",
        "  plt.show()\n",
        "  # print(cm)\n",
        "  return accuracy_score(y_test, y_pred), f1_score(y_test, y_pred, average='macro')"
      ],
      "metadata": {
        "id": "j-6d63Lwpff8"
      },
      "execution_count": null,
      "outputs": []
    },
    {
      "cell_type": "code",
      "source": [
        "accu(y_test, y_pred)"
      ],
      "metadata": {
        "colab": {
          "base_uri": "https://localhost:8080/",
          "height": 466
        },
        "id": "V-2_GhBFte-u",
        "outputId": "54bd467d-6fd0-4cda-821c-63ce072f78a3"
      },
      "execution_count": null,
      "outputs": [
        {
          "output_type": "display_data",
          "data": {
            "text/plain": [
              "<Figure size 640x480 with 2 Axes>"
            ],
            "image/png": "[encoded data removed]"
          },
          "metadata": {}
        },
        {
          "output_type": "execute_result",
          "data": {
            "text/plain": [
              "(0.9918, 0.9917376485969271)"
            ]
          },
          "metadata": {},
          "execution_count": 18
        }
      ]
    },
    {
      "cell_type": "code",
      "source": [
        "# Demo training a CNN model from scratch\n",
        "cnn = LeNetCNN()\n",
        "cnn.build((28, 28, 1))\n",
        "cnn.summary()\n",
        "cnn.train(x_train_norm, y_train_oh, x_test_norm, y_test_oh)\n",
        "cnn.save(\"lenet.h5\")"
      ],
      "metadata": {
        "colab": {
          "base_uri": "https://localhost:8080/"
        },
        "id": "eh-1XpOzqd05",
        "outputId": "ce52eb26-722c-4536-e2f8-cca8815a326d"
      },
      "execution_count": null,
      "outputs": [
        {
          "output_type": "stream",
          "name": "stdout",
          "text": [
            "Model: \"model_1\"\n",
            "_________________________________________________________________\n",
            " Layer (type)                Output Shape              Param #   \n",
            "=================================================================\n",
            " input_2 (InputLayer)        [(None, 28, 28, 1)]       0         \n",
            "                                                                 \n",
            " conv2d_6 (Conv2D)           (None, 28, 28, 6)         60        \n",
            "                                                                 \n",
            " max_pooling2d_1 (MaxPooling  (None, 14, 14, 6)        0         \n",
            " 2D)                                                             \n",
            "                                                                 \n",
            " conv2d_7 (Conv2D)           (None, 14, 14, 16)        880       \n",
            "                                                                 \n",
            " max_pooling2d_2 (MaxPooling  (None, 7, 7, 16)         0         \n",
            " 2D)                                                             \n",
            "                                                                 \n",
            " flatten_1 (Flatten)         (None, 784)               0         \n",
            "                                                                 \n",
            " dense_2 (Dense)             (None, 120)               94200     \n",
            "                                                                 \n",
            " dense_3 (Dense)             (None, 84)                10164     \n",
            "                                                                 \n",
            " dense_4 (Dense)             (None, 10)                850       \n",
            "                                                                 \n",
            "=================================================================\n",
            "Total params: 106,154\n",
            "Trainable params: 106,154\n",
            "Non-trainable params: 0\n",
            "_________________________________________________________________\n",
            "Epoch 1/50\n",
            "469/469 [==============================] - 3s 5ms/step - loss: 1.3660 - accuracy: 0.5914 - val_loss: 0.4138 - val_accuracy: 0.8762\n",
            "Epoch 2/50\n",
            "469/469 [==============================] - 2s 4ms/step - loss: 0.3249 - accuracy: 0.9014 - val_loss: 0.2564 - val_accuracy: 0.9225\n",
            "Epoch 3/50\n",
            "469/469 [==============================] - 2s 4ms/step - loss: 0.2354 - accuracy: 0.9277 - val_loss: 0.1893 - val_accuracy: 0.9401\n",
            "Epoch 4/50\n",
            "469/469 [==============================] - 2s 4ms/step - loss: 0.1868 - accuracy: 0.9431 - val_loss: 0.1960 - val_accuracy: 0.9385\n",
            "Epoch 5/50\n",
            "469/469 [==============================] - 2s 5ms/step - loss: 0.1565 - accuracy: 0.9524 - val_loss: 0.1330 - val_accuracy: 0.9584\n",
            "Epoch 6/50\n",
            "469/469 [==============================] - 2s 4ms/step - loss: 0.1343 - accuracy: 0.9594 - val_loss: 0.1181 - val_accuracy: 0.9620\n",
            "Epoch 7/50\n",
            "469/469 [==============================] - 2s 4ms/step - loss: 0.1176 - accuracy: 0.9639 - val_loss: 0.0988 - val_accuracy: 0.9691\n",
            "Epoch 8/50\n",
            "469/469 [==============================] - 2s 4ms/step - loss: 0.1071 - accuracy: 0.9680 - val_loss: 0.1219 - val_accuracy: 0.9604\n",
            "Epoch 9/50\n",
            "469/469 [==============================] - 2s 4ms/step - loss: 0.0979 - accuracy: 0.9700 - val_loss: 0.1004 - val_accuracy: 0.9676\n",
            "Epoch 10/50\n",
            "469/469 [==============================] - 2s 4ms/step - loss: 0.0903 - accuracy: 0.9726 - val_loss: 0.0836 - val_accuracy: 0.9728\n",
            "Epoch 11/50\n",
            "469/469 [==============================] - 2s 5ms/step - loss: 0.0835 - accuracy: 0.9748 - val_loss: 0.0765 - val_accuracy: 0.9754\n",
            "Epoch 12/50\n",
            "469/469 [==============================] - 2s 5ms/step - loss: 0.0793 - accuracy: 0.9762 - val_loss: 0.0724 - val_accuracy: 0.9765\n",
            "Epoch 13/50\n",
            "469/469 [==============================] - 2s 4ms/step - loss: 0.0747 - accuracy: 0.9769 - val_loss: 0.0829 - val_accuracy: 0.9741\n",
            "Epoch 14/50\n",
            "469/469 [==============================] - 2s 4ms/step - loss: 0.0708 - accuracy: 0.9777 - val_loss: 0.0670 - val_accuracy: 0.9783\n",
            "Epoch 15/50\n",
            "469/469 [==============================] - 2s 4ms/step - loss: 0.0680 - accuracy: 0.9795 - val_loss: 0.0690 - val_accuracy: 0.9780\n",
            "Epoch 16/50\n",
            "469/469 [==============================] - 2s 4ms/step - loss: 0.0647 - accuracy: 0.9807 - val_loss: 0.0654 - val_accuracy: 0.9790\n",
            "Epoch 17/50\n",
            "469/469 [==============================] - 2s 5ms/step - loss: 0.0614 - accuracy: 0.9815 - val_loss: 0.0569 - val_accuracy: 0.9816\n",
            "Epoch 18/50\n",
            "469/469 [==============================] - 2s 5ms/step - loss: 0.0589 - accuracy: 0.9825 - val_loss: 0.0630 - val_accuracy: 0.9799\n",
            "Epoch 19/50\n",
            "469/469 [==============================] - 2s 4ms/step - loss: 0.0569 - accuracy: 0.9823 - val_loss: 0.0568 - val_accuracy: 0.9824\n",
            "Epoch 20/50\n",
            "469/469 [==============================] - 2s 4ms/step - loss: 0.0549 - accuracy: 0.9832 - val_loss: 0.0561 - val_accuracy: 0.9817\n",
            "Epoch 21/50\n",
            "469/469 [==============================] - 2s 4ms/step - loss: 0.0528 - accuracy: 0.9837 - val_loss: 0.0607 - val_accuracy: 0.9806\n",
            "Epoch 22/50\n",
            "469/469 [==============================] - 2s 5ms/step - loss: 0.0510 - accuracy: 0.9841 - val_loss: 0.0512 - val_accuracy: 0.9847\n",
            "Epoch 23/50\n",
            "469/469 [==============================] - 2s 5ms/step - loss: 0.0498 - accuracy: 0.9845 - val_loss: 0.0630 - val_accuracy: 0.9807\n",
            "Epoch 24/50\n",
            "469/469 [==============================] - 2s 4ms/step - loss: 0.0477 - accuracy: 0.9859 - val_loss: 0.0513 - val_accuracy: 0.9841\n",
            "Epoch 25/50\n",
            "469/469 [==============================] - 2s 4ms/step - loss: 0.0464 - accuracy: 0.9858 - val_loss: 0.0549 - val_accuracy: 0.9824\n",
            "Epoch 26/50\n",
            "469/469 [==============================] - 2s 4ms/step - loss: 0.0450 - accuracy: 0.9859 - val_loss: 0.0480 - val_accuracy: 0.9843\n",
            "Epoch 27/50\n",
            "469/469 [==============================] - 2s 4ms/step - loss: 0.0430 - accuracy: 0.9868 - val_loss: 0.0498 - val_accuracy: 0.9842\n",
            "Epoch 28/50\n",
            "469/469 [==============================] - 2s 4ms/step - loss: 0.0422 - accuracy: 0.9870 - val_loss: 0.0516 - val_accuracy: 0.9835\n",
            "Epoch 29/50\n",
            "469/469 [==============================] - 2s 5ms/step - loss: 0.0413 - accuracy: 0.9871 - val_loss: 0.0540 - val_accuracy: 0.9827\n",
            "Epoch 30/50\n",
            "469/469 [==============================] - 2s 5ms/step - loss: 0.0397 - accuracy: 0.9878 - val_loss: 0.0560 - val_accuracy: 0.9824\n",
            "Epoch 31/50\n",
            "469/469 [==============================] - 2s 4ms/step - loss: 0.0386 - accuracy: 0.9881 - val_loss: 0.0468 - val_accuracy: 0.9842\n",
            "Epoch 32/50\n",
            "469/469 [==============================] - 2s 4ms/step - loss: 0.0372 - accuracy: 0.9884 - val_loss: 0.0443 - val_accuracy: 0.9849\n",
            "Epoch 33/50\n",
            "469/469 [==============================] - 2s 4ms/step - loss: 0.0361 - accuracy: 0.9891 - val_loss: 0.0480 - val_accuracy: 0.9858\n",
            "Epoch 34/50\n",
            "469/469 [==============================] - 2s 4ms/step - loss: 0.0356 - accuracy: 0.9893 - val_loss: 0.0448 - val_accuracy: 0.9850\n",
            "Epoch 35/50\n",
            "469/469 [==============================] - 4s 7ms/step - loss: 0.0349 - accuracy: 0.9886 - val_loss: 0.0413 - val_accuracy: 0.9860\n",
            "Epoch 36/50\n",
            "469/469 [==============================] - 2s 5ms/step - loss: 0.0337 - accuracy: 0.9896 - val_loss: 0.0536 - val_accuracy: 0.9826\n",
            "Epoch 37/50\n",
            "469/469 [==============================] - 2s 4ms/step - loss: 0.0329 - accuracy: 0.9898 - val_loss: 0.0478 - val_accuracy: 0.9840\n",
            "Epoch 38/50\n",
            "469/469 [==============================] - 2s 4ms/step - loss: 0.0326 - accuracy: 0.9899 - val_loss: 0.0444 - val_accuracy: 0.9858\n",
            "Epoch 39/50\n",
            "469/469 [==============================] - 2s 4ms/step - loss: 0.0321 - accuracy: 0.9901 - val_loss: 0.0432 - val_accuracy: 0.9867\n",
            "Epoch 40/50\n",
            "469/469 [==============================] - 2s 4ms/step - loss: 0.0306 - accuracy: 0.9905 - val_loss: 0.0540 - val_accuracy: 0.9821\n",
            "Epoch 41/50\n",
            "469/469 [==============================] - 2s 5ms/step - loss: 0.0305 - accuracy: 0.9905 - val_loss: 0.0455 - val_accuracy: 0.9846\n",
            "Epoch 42/50\n",
            "469/469 [==============================] - 2s 4ms/step - loss: 0.0292 - accuracy: 0.9912 - val_loss: 0.0434 - val_accuracy: 0.9866\n",
            "Epoch 43/50\n",
            "469/469 [==============================] - 2s 4ms/step - loss: 0.0288 - accuracy: 0.9916 - val_loss: 0.0400 - val_accuracy: 0.9875\n",
            "Epoch 44/50\n",
            "469/469 [==============================] - 2s 4ms/step - loss: 0.0280 - accuracy: 0.9917 - val_loss: 0.0417 - val_accuracy: 0.9863\n",
            "Epoch 45/50\n",
            "469/469 [==============================] - 2s 5ms/step - loss: 0.0277 - accuracy: 0.9915 - val_loss: 0.0411 - val_accuracy: 0.9870\n",
            "Epoch 46/50\n",
            "469/469 [==============================] - 2s 4ms/step - loss: 0.0264 - accuracy: 0.9921 - val_loss: 0.0398 - val_accuracy: 0.9871\n",
            "Epoch 47/50\n",
            "469/469 [==============================] - 2s 5ms/step - loss: 0.0261 - accuracy: 0.9922 - val_loss: 0.0430 - val_accuracy: 0.9868\n",
            "Epoch 48/50\n",
            "469/469 [==============================] - 2s 4ms/step - loss: 0.0254 - accuracy: 0.9924 - val_loss: 0.0438 - val_accuracy: 0.9861\n",
            "Epoch 49/50\n",
            "469/469 [==============================] - 2s 4ms/step - loss: 0.0247 - accuracy: 0.9926 - val_loss: 0.0462 - val_accuracy: 0.9847\n",
            "Epoch 50/50\n",
            "469/469 [==============================] - 2s 4ms/step - loss: 0.0241 - accuracy: 0.9926 - val_loss: 0.0415 - val_accuracy: 0.9869\n"
          ]
        }
      ]
    },
    {
      "cell_type": "code",
      "source": [
        "# Visualize training data\n",
        "plt.imshow(x_train[1234])\n",
        "plt.show()\n",
        "print(\"Label: \", y_train_oh[1234])"
      ],
      "metadata": {
        "colab": {
          "base_uri": "https://localhost:8080/",
          "height": 447
        },
        "id": "5w_TrFU6qegu",
        "outputId": "5968293f-3518-40e4-c585-a48151ba546d"
      },
      "execution_count": null,
      "outputs": [
        {
          "output_type": "display_data",
          "data": {
            "text/plain": [
              "<Figure size 640x480 with 1 Axes>"
            ],
            "image/png": "[encoded data removed]"
          },
          "metadata": {}
        },
        {
          "output_type": "stream",
          "name": "stdout",
          "text": [
            "Label:  [0. 0. 0. 1. 0. 0. 0. 0. 0. 0.]\n"
          ]
        }
      ]
    },
    {
      "cell_type": "code",
      "source": [
        "cnn = LeNetCNN()\n",
        "cnn.load(\"lenet.h5\")\n",
        "\n",
        "pred = cnn.predict(x_test_norm)\n",
        "plt.imshow(x_test[1000])\n",
        "plt.show()\n",
        "print(\"Predicted label: \", np.argmax(pred[1000]))\n",
        "print(\"Ground-truth label: \", y_test[1000])"
      ],
      "metadata": {
        "colab": {
          "base_uri": "https://localhost:8080/",
          "height": 482
        },
        "id": "qdDy0hoqqiOS",
        "outputId": "b4ecd8d1-e546-4fd2-d34f-eaabccad5271"
      },
      "execution_count": null,
      "outputs": [
        {
          "output_type": "stream",
          "name": "stdout",
          "text": [
            "313/313 [==============================] - 1s 2ms/step\n"
          ]
        },
        {
          "output_type": "display_data",
          "data": {
            "text/plain": [
              "<Figure size 640x480 with 1 Axes>"
            ],
            "image/png": "[encoded data removed]"
          },
          "metadata": {}
        },
        {
          "output_type": "stream",
          "name": "stdout",
          "text": [
            "Predicted label:  9\n",
            "Ground-truth label:  9\n"
          ]
        }
      ]
    },
    {
      "cell_type": "code",
      "source": [
        "y_pred = np.array([np.argmax(i) for i in pred])"
      ],
      "metadata": {
        "id": "3wD4r8n8qoAT"
      },
      "execution_count": null,
      "outputs": []
    },
    {
      "cell_type": "code",
      "source": [
        "accu(y_test, y_pred) "
      ],
      "metadata": {
        "colab": {
          "base_uri": "https://localhost:8080/",
          "height": 466
        },
        "id": "cuxwCOyDt39O",
        "outputId": "c3a51292-df54-488e-906f-3aedd2217b22"
      },
      "execution_count": null,
      "outputs": [
        {
          "output_type": "display_data",
          "data": {
            "text/plain": [
              "<Figure size 640x480 with 2 Axes>"
            ],
            "image/png": "[encoded data removed]"
          },
          "metadata": {}
        },
        {
          "output_type": "execute_result",
          "data": {
            "text/plain": [
              "(0.9869, 0.9868313936874025)"
            ]
          },
          "metadata": {},
          "execution_count": 23
        }
      ]
    },
    {
      "cell_type": "code",
      "source": [
        "pred_label = cnn.predict(x_test_norm)"
      ],
      "metadata": {
        "colab": {
          "base_uri": "https://localhost:8080/"
        },
        "id": "uyqvU5NyqqMY",
        "outputId": "3e358070-ea9f-4757-8bf3-9dd10f405876"
      },
      "execution_count": null,
      "outputs": [
        {
          "output_type": "stream",
          "name": "stdout",
          "text": [
            "313/313 [==============================] - 1s 3ms/step\n"
          ]
        }
      ]
    },
    {
      "cell_type": "code",
      "source": [
        "plt.imshow(x_test[123])\n",
        "plt.show()\n",
        "print('Predicted label: ', np.argmax(pred_label[123]))\n",
        "print('Ground truth label: ', y_test[123])"
      ],
      "metadata": {
        "colab": {
          "base_uri": "https://localhost:8080/",
          "height": 465
        },
        "id": "n9eDTXvavMqq",
        "outputId": "9ad97d6f-99d8-46d5-89fe-256ac68c7e82"
      },
      "execution_count": null,
      "outputs": [
        {
          "output_type": "display_data",
          "data": {
            "text/plain": [
              "<Figure size 640x480 with 1 Axes>"
            ],
            "image/png": "[encoded data removed]"
          },
          "metadata": {}
        },
        {
          "output_type": "stream",
          "name": "stdout",
          "text": [
            "Predicted label:  6\n",
            "Ground truth label:  6\n"
          ]
        }
      ]
    }
  ]
}
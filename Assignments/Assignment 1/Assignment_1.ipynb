{
  "nbformat": 4,
  "nbformat_minor": 0,
  "metadata": {
    "colab": {
      "provenance": [],
      "collapsed_sections": [
        "a3yRPkdMRkQt",
        "Pl152OIKJ_08",
        "ul-Z4IfQKD3e",
        "3BG2-6BWMb5R",
        "owovMfcbM9Nh",
        "I3AUk8zMNdFe",
        "kY_orEswOcWT",
        "YtBlvVvOPx11",
        "DssPFspvQKCV",
        "3Nve98SEQlLG",
        "GsmmojtEQ0yo",
        "VlLkm2IGRQf0"
      ]
    },
    "kernelspec": {
      "name": "python3",
      "display_name": "Python 3"
    },
    "language_info": {
      "name": "python"
    }
  },
  "cells": [
    {
      "cell_type": "markdown",
      "source": [
        "# THÔNG TIN SINH VIÊN"
      ],
      "metadata": {
        "id": "a3yRPkdMRkQt"
      }
    },
    {
      "cell_type": "markdown",
      "source": [
        "MSSV: 21521009\n",
        "\n",
        "Họ và tên: Nguyễn Nguyên Khôi\n",
        "\n",
        "Lớp: CS116.N21.KHCL"
      ],
      "metadata": {
        "id": "I_qvEEYHRpAz"
      }
    },
    {
      "cell_type": "markdown",
      "source": [
        "# IMPORTING DATA"
      ],
      "metadata": {
        "id": "Pl152OIKJ_08"
      }
    },
    {
      "cell_type": "code",
      "execution_count": 1,
      "metadata": {
        "colab": {
          "base_uri": "https://localhost:8080/"
        },
        "id": "Anz0BeuoG3Uc",
        "outputId": "b7203a2b-ab23-46b8-922f-eff427ce54cf"
      },
      "outputs": [
        {
          "output_type": "stream",
          "name": "stdout",
          "text": [
            "Cloning into 'CSL_HCMC'...\n",
            "remote: Enumerating objects: 1957, done.\u001b[K\n",
            "remote: Counting objects: 100% (46/46), done.\u001b[K\n",
            "remote: Compressing objects: 100% (45/45), done.\u001b[K\n",
            "remote: Total 1957 (delta 7), reused 1 (delta 1), pack-reused 1911\u001b[K\n",
            "Receiving objects: 100% (1957/1957), 175.89 MiB | 23.00 MiB/s, done.\n",
            "Resolving deltas: 100% (1063/1063), done.\n",
            "Updating files: 100% (542/542), done.\n"
          ]
        }
      ],
      "source": [
        "!git clone https://github.com/CityScope/CSL_HCMC"
      ]
    },
    {
      "cell_type": "code",
      "source": [
        "!pip install geopandas"
      ],
      "metadata": {
        "colab": {
          "base_uri": "https://localhost:8080/"
        },
        "id": "craZ1_ndHpEq",
        "outputId": "f43883b8-1930-4876-d5a5-ce628e830a0d"
      },
      "execution_count": 3,
      "outputs": [
        {
          "output_type": "stream",
          "name": "stdout",
          "text": [
            "Looking in indexes: https://pypi.org/simple, https://us-python.pkg.dev/colab-wheels/public/simple/\n",
            "Collecting geopandas\n",
            "  Downloading geopandas-0.12.2-py3-none-any.whl (1.1 MB)\n",
            "\u001b[2K     \u001b[90m━━━━━━━━━━━━━━━━━━━━━━━━━━━━━━━━━━━━━━━━\u001b[0m \u001b[32m1.1/1.1 MB\u001b[0m \u001b[31m15.5 MB/s\u001b[0m eta \u001b[36m0:00:00\u001b[0m\n",
            "\u001b[?25hRequirement already satisfied: packaging in /usr/local/lib/python3.9/dist-packages (from geopandas) (23.0)\n",
            "Collecting pyproj>=2.6.1.post1\n",
            "  Downloading pyproj-3.4.1-cp39-cp39-manylinux_2_17_x86_64.manylinux2014_x86_64.whl (7.7 MB)\n",
            "\u001b[2K     \u001b[90m━━━━━━━━━━━━━━━━━━━━━━━━━━━━━━━━━━━━━━━━\u001b[0m \u001b[32m7.7/7.7 MB\u001b[0m \u001b[31m90.2 MB/s\u001b[0m eta \u001b[36m0:00:00\u001b[0m\n",
            "\u001b[?25hRequirement already satisfied: pandas>=1.0.0 in /usr/local/lib/python3.9/dist-packages (from geopandas) (1.4.4)\n",
            "Requirement already satisfied: shapely>=1.7 in /usr/local/lib/python3.9/dist-packages (from geopandas) (2.0.1)\n",
            "Collecting fiona>=1.8\n",
            "  Downloading Fiona-1.9.1-cp39-cp39-manylinux_2_17_x86_64.manylinux2014_x86_64.whl (16.0 MB)\n",
            "\u001b[2K     \u001b[90m━━━━━━━━━━━━━━━━━━━━━━━━━━━━━━━━━━━━━━━━\u001b[0m \u001b[32m16.0/16.0 MB\u001b[0m \u001b[31m70.3 MB/s\u001b[0m eta \u001b[36m0:00:00\u001b[0m\n",
            "\u001b[?25hCollecting click-plugins>=1.0\n",
            "  Downloading click_plugins-1.1.1-py2.py3-none-any.whl (7.5 kB)\n",
            "Requirement already satisfied: click~=8.0 in /usr/local/lib/python3.9/dist-packages (from fiona>=1.8->geopandas) (8.1.3)\n",
            "Collecting cligj>=0.5\n",
            "  Downloading cligj-0.7.2-py3-none-any.whl (7.1 kB)\n",
            "Requirement already satisfied: certifi in /usr/local/lib/python3.9/dist-packages (from fiona>=1.8->geopandas) (2022.12.7)\n",
            "Collecting munch>=2.3.2\n",
            "  Downloading munch-2.5.0-py2.py3-none-any.whl (10 kB)\n",
            "Requirement already satisfied: setuptools in /usr/local/lib/python3.9/dist-packages (from fiona>=1.8->geopandas) (63.4.3)\n",
            "Requirement already satisfied: attrs>=19.2.0 in /usr/local/lib/python3.9/dist-packages (from fiona>=1.8->geopandas) (22.2.0)\n",
            "Requirement already satisfied: numpy>=1.18.5 in /usr/local/lib/python3.9/dist-packages (from pandas>=1.0.0->geopandas) (1.22.4)\n",
            "Requirement already satisfied: pytz>=2020.1 in /usr/local/lib/python3.9/dist-packages (from pandas>=1.0.0->geopandas) (2022.7.1)\n",
            "Requirement already satisfied: python-dateutil>=2.8.1 in /usr/local/lib/python3.9/dist-packages (from pandas>=1.0.0->geopandas) (2.8.2)\n",
            "Requirement already satisfied: six in /usr/local/lib/python3.9/dist-packages (from munch>=2.3.2->fiona>=1.8->geopandas) (1.15.0)\n",
            "Installing collected packages: pyproj, munch, cligj, click-plugins, fiona, geopandas\n",
            "Successfully installed click-plugins-1.1.1 cligj-0.7.2 fiona-1.9.1 geopandas-0.12.2 munch-2.5.0 pyproj-3.4.1\n"
          ]
        }
      ]
    },
    {
      "cell_type": "code",
      "source": [
        "import geopandas as gpd"
      ],
      "metadata": {
        "id": "2SzXLROZH6hG"
      },
      "execution_count": 4,
      "outputs": []
    },
    {
      "cell_type": "code",
      "source": [
        "data = gpd.read_file(\"CSL_HCMC/Data/GIS/Population/population_HCMC/population_shapefile/Population_Ward_Level.shp\")\n",
        "data.head(5)"
      ],
      "metadata": {
        "colab": {
          "base_uri": "https://localhost:8080/",
          "height": 206
        },
        "id": "4Rj22eZSIgSN",
        "outputId": "ab3c8ebd-b6d9-427a-bb20-bc9094c6b6b8"
      },
      "execution_count": 18,
      "outputs": [
        {
          "output_type": "execute_result",
          "data": {
            "text/plain": [
              "           Com_Name   Dist_Name Com_ID Dist_ID Level  Pop_2009  Pop_2019  \\\n",
              "0          Tan Dinh  District 1  26734     760  Ward   26571.0   23258.0   \n",
              "1          Ben Nghe  District 1  26740     760  Ward   13580.0   10633.0   \n",
              "2      Cau Ong Lanh  District 1  26752     760  Ward   12917.0   10737.0   \n",
              "3  Nguyen Thai Binh  District 1  26746     760  Ward   13197.0    9716.0   \n",
              "4          Co Giang  District 1  26755     760  Ward   18967.0   11517.0   \n",
              "\n",
              "   Den_2009  Den_2019   Shape_Leng    Shape_Area  \\\n",
              "0  41942.70  36713.10  3679.098196  6.334981e+05   \n",
              "1   5480.09   4290.86  6978.149149  2.478041e+06   \n",
              "2  56878.90  47279.50  2260.705105  2.270938e+05   \n",
              "3  26798.80  19730.00  3320.174618  4.924426e+05   \n",
              "4  53327.60  32381.20  2525.453814  3.556650e+05   \n",
              "\n",
              "                                            geometry  \n",
              "0  POLYGON ((684350.511 1193546.266, 684363.810 1...  \n",
              "1  POLYGON ((686564.657 1193462.473, 686588.924 1...  \n",
              "2  POLYGON ((685922.373 1190479.807, 685914.160 1...  \n",
              "3  POLYGON ((685966.333 1190513.667, 685944.353 1...  \n",
              "4  POLYGON ((685514.573 1190211.431, 685547.521 1...  "
            ],
            "text/html": [
              "\n",
              "  <div id=\"df-5c39c876-d083-4a8e-aea9-f4a43ca95b8a\">\n",
              "    <div class=\"colab-df-container\">\n",
              "      <div>\n",
              "<style scoped>\n",
              "    .dataframe tbody tr th:only-of-type {\n",
              "        vertical-align: middle;\n",
              "    }\n",
              "\n",
              "    .dataframe tbody tr th {\n",
              "        vertical-align: top;\n",
              "    }\n",
              "\n",
              "    .dataframe thead th {\n",
              "        text-align: right;\n",
              "    }\n",
              "</style>\n",
              "<table border=\"1\" class=\"dataframe\">\n",
              "  <thead>\n",
              "    <tr style=\"text-align: right;\">\n",
              "      <th></th>\n",
              "      <th>Com_Name</th>\n",
              "      <th>Dist_Name</th>\n",
              "      <th>Com_ID</th>\n",
              "      <th>Dist_ID</th>\n",
              "      <th>Level</th>\n",
              "      <th>Pop_2009</th>\n",
              "      <th>Pop_2019</th>\n",
              "      <th>Den_2009</th>\n",
              "      <th>Den_2019</th>\n",
              "      <th>Shape_Leng</th>\n",
              "      <th>Shape_Area</th>\n",
              "      <th>geometry</th>\n",
              "    </tr>\n",
              "  </thead>\n",
              "  <tbody>\n",
              "    <tr>\n",
              "      <th>0</th>\n",
              "      <td>Tan Dinh</td>\n",
              "      <td>District 1</td>\n",
              "      <td>26734</td>\n",
              "      <td>760</td>\n",
              "      <td>Ward</td>\n",
              "      <td>26571.0</td>\n",
              "      <td>23258.0</td>\n",
              "      <td>41942.70</td>\n",
              "      <td>36713.10</td>\n",
              "      <td>3679.098196</td>\n",
              "      <td>6.334981e+05</td>\n",
              "      <td>POLYGON ((684350.511 1193546.266, 684363.810 1...</td>\n",
              "    </tr>\n",
              "    <tr>\n",
              "      <th>1</th>\n",
              "      <td>Ben Nghe</td>\n",
              "      <td>District 1</td>\n",
              "      <td>26740</td>\n",
              "      <td>760</td>\n",
              "      <td>Ward</td>\n",
              "      <td>13580.0</td>\n",
              "      <td>10633.0</td>\n",
              "      <td>5480.09</td>\n",
              "      <td>4290.86</td>\n",
              "      <td>6978.149149</td>\n",
              "      <td>2.478041e+06</td>\n",
              "      <td>POLYGON ((686564.657 1193462.473, 686588.924 1...</td>\n",
              "    </tr>\n",
              "    <tr>\n",
              "      <th>2</th>\n",
              "      <td>Cau Ong Lanh</td>\n",
              "      <td>District 1</td>\n",
              "      <td>26752</td>\n",
              "      <td>760</td>\n",
              "      <td>Ward</td>\n",
              "      <td>12917.0</td>\n",
              "      <td>10737.0</td>\n",
              "      <td>56878.90</td>\n",
              "      <td>47279.50</td>\n",
              "      <td>2260.705105</td>\n",
              "      <td>2.270938e+05</td>\n",
              "      <td>POLYGON ((685922.373 1190479.807, 685914.160 1...</td>\n",
              "    </tr>\n",
              "    <tr>\n",
              "      <th>3</th>\n",
              "      <td>Nguyen Thai Binh</td>\n",
              "      <td>District 1</td>\n",
              "      <td>26746</td>\n",
              "      <td>760</td>\n",
              "      <td>Ward</td>\n",
              "      <td>13197.0</td>\n",
              "      <td>9716.0</td>\n",
              "      <td>26798.80</td>\n",
              "      <td>19730.00</td>\n",
              "      <td>3320.174618</td>\n",
              "      <td>4.924426e+05</td>\n",
              "      <td>POLYGON ((685966.333 1190513.667, 685944.353 1...</td>\n",
              "    </tr>\n",
              "    <tr>\n",
              "      <th>4</th>\n",
              "      <td>Co Giang</td>\n",
              "      <td>District 1</td>\n",
              "      <td>26755</td>\n",
              "      <td>760</td>\n",
              "      <td>Ward</td>\n",
              "      <td>18967.0</td>\n",
              "      <td>11517.0</td>\n",
              "      <td>53327.60</td>\n",
              "      <td>32381.20</td>\n",
              "      <td>2525.453814</td>\n",
              "      <td>3.556650e+05</td>\n",
              "      <td>POLYGON ((685514.573 1190211.431, 685547.521 1...</td>\n",
              "    </tr>\n",
              "  </tbody>\n",
              "</table>\n",
              "</div>\n",
              "      <button class=\"colab-df-convert\" onclick=\"convertToInteractive('df-5c39c876-d083-4a8e-aea9-f4a43ca95b8a')\"\n",
              "              title=\"Convert this dataframe to an interactive table.\"\n",
              "              style=\"display:none;\">\n",
              "        \n",
              "  <svg xmlns=\"http://www.w3.org/2000/svg\" height=\"24px\"viewBox=\"0 0 24 24\"\n",
              "       width=\"24px\">\n",
              "    <path d=\"M0 0h24v24H0V0z\" fill=\"none\"/>\n",
              "    <path d=\"M18.56 5.44l.94 2.06.94-2.06 2.06-.94-2.06-.94-.94-2.06-.94 2.06-2.06.94zm-11 1L8.5 8.5l.94-2.06 2.06-.94-2.06-.94L8.5 2.5l-.94 2.06-2.06.94zm10 10l.94 2.06.94-2.06 2.06-.94-2.06-.94-.94-2.06-.94 2.06-2.06.94z\"/><path d=\"M17.41 7.96l-1.37-1.37c-.4-.4-.92-.59-1.43-.59-.52 0-1.04.2-1.43.59L10.3 9.45l-7.72 7.72c-.78.78-.78 2.05 0 2.83L4 21.41c.39.39.9.59 1.41.59.51 0 1.02-.2 1.41-.59l7.78-7.78 2.81-2.81c.8-.78.8-2.07 0-2.86zM5.41 20L4 18.59l7.72-7.72 1.47 1.35L5.41 20z\"/>\n",
              "  </svg>\n",
              "      </button>\n",
              "      \n",
              "  <style>\n",
              "    .colab-df-container {\n",
              "      display:flex;\n",
              "      flex-wrap:wrap;\n",
              "      gap: 12px;\n",
              "    }\n",
              "\n",
              "    .colab-df-convert {\n",
              "      background-color: #E8F0FE;\n",
              "      border: none;\n",
              "      border-radius: 50%;\n",
              "      cursor: pointer;\n",
              "      display: none;\n",
              "      fill: #1967D2;\n",
              "      height: 32px;\n",
              "      padding: 0 0 0 0;\n",
              "      width: 32px;\n",
              "    }\n",
              "\n",
              "    .colab-df-convert:hover {\n",
              "      background-color: #E2EBFA;\n",
              "      box-shadow: 0px 1px 2px rgba(60, 64, 67, 0.3), 0px 1px 3px 1px rgba(60, 64, 67, 0.15);\n",
              "      fill: #174EA6;\n",
              "    }\n",
              "\n",
              "    [theme=dark] .colab-df-convert {\n",
              "      background-color: #3B4455;\n",
              "      fill: #D2E3FC;\n",
              "    }\n",
              "\n",
              "    [theme=dark] .colab-df-convert:hover {\n",
              "      background-color: #434B5C;\n",
              "      box-shadow: 0px 1px 3px 1px rgba(0, 0, 0, 0.15);\n",
              "      filter: drop-shadow(0px 1px 2px rgba(0, 0, 0, 0.3));\n",
              "      fill: #FFFFFF;\n",
              "    }\n",
              "  </style>\n",
              "\n",
              "      <script>\n",
              "        const buttonEl =\n",
              "          document.querySelector('#df-5c39c876-d083-4a8e-aea9-f4a43ca95b8a button.colab-df-convert');\n",
              "        buttonEl.style.display =\n",
              "          google.colab.kernel.accessAllowed ? 'block' : 'none';\n",
              "\n",
              "        async function convertToInteractive(key) {\n",
              "          const element = document.querySelector('#df-5c39c876-d083-4a8e-aea9-f4a43ca95b8a');\n",
              "          const dataTable =\n",
              "            await google.colab.kernel.invokeFunction('convertToInteractive',\n",
              "                                                     [key], {});\n",
              "          if (!dataTable) return;\n",
              "\n",
              "          const docLinkHtml = 'Like what you see? Visit the ' +\n",
              "            '<a target=\"_blank\" href=https://colab.research.google.com/notebooks/data_table.ipynb>data table notebook</a>'\n",
              "            + ' to learn more about interactive tables.';\n",
              "          element.innerHTML = '';\n",
              "          dataTable['output_type'] = 'display_data';\n",
              "          await google.colab.output.renderOutput(dataTable, element);\n",
              "          const docLink = document.createElement('div');\n",
              "          docLink.innerHTML = docLinkHtml;\n",
              "          element.appendChild(docLink);\n",
              "        }\n",
              "      </script>\n",
              "    </div>\n",
              "  </div>\n",
              "  "
            ]
          },
          "metadata": {},
          "execution_count": 18
        }
      ]
    },
    {
      "cell_type": "code",
      "source": [
        "type(data)"
      ],
      "metadata": {
        "colab": {
          "base_uri": "https://localhost:8080/"
        },
        "id": "oB82BrRJI4u3",
        "outputId": "dd075bf6-2c84-40e0-b6b7-5d0711782429"
      },
      "execution_count": 19,
      "outputs": [
        {
          "output_type": "execute_result",
          "data": {
            "text/plain": [
              "geopandas.geodataframe.GeoDataFrame"
            ]
          },
          "metadata": {},
          "execution_count": 19
        }
      ]
    },
    {
      "cell_type": "code",
      "source": [
        "data.shape"
      ],
      "metadata": {
        "colab": {
          "base_uri": "https://localhost:8080/"
        },
        "id": "q4n-qvFmJtrp",
        "outputId": "0ba3f752-2cba-4e89-c25b-29f1d3ea8a46"
      },
      "execution_count": 20,
      "outputs": [
        {
          "output_type": "execute_result",
          "data": {
            "text/plain": [
              "(322, 12)"
            ]
          },
          "metadata": {},
          "execution_count": 20
        }
      ]
    },
    {
      "cell_type": "code",
      "source": [
        "data.describe()"
      ],
      "metadata": {
        "colab": {
          "base_uri": "https://localhost:8080/",
          "height": 300
        },
        "id": "EnU9cEhGJqeI",
        "outputId": "6c6507d4-2a06-4f48-cf51-adf170e71005"
      },
      "execution_count": 21,
      "outputs": [
        {
          "output_type": "execute_result",
          "data": {
            "text/plain": [
              "           Pop_2009       Pop_2019       Den_2009      Den_2019    Shape_Leng  \\\n",
              "count    322.000000     322.000000     322.000000    322.000000    322.000000   \n",
              "mean   22244.919255   27928.826087   27795.568936  28131.416022   9190.489424   \n",
              "std    13918.047885   21665.910645   23970.486237  22390.673711  10202.759602   \n",
              "min     4419.000000     223.000000      33.942700     32.670100   1542.240501   \n",
              "25%    11725.750000   12238.750000    4690.145000   7204.712500   2699.992368   \n",
              "50%    18661.500000   21796.500000   24661.350000  27524.750000   5074.050112   \n",
              "75%    26935.500000   36412.250000   45075.875000  44157.875000  12480.323236   \n",
              "max    98483.000000  124709.000000  101839.000000  96188.700000  68958.528608   \n",
              "\n",
              "         Shape_Area  \n",
              "count  3.220000e+02  \n",
              "mean   6.549688e+06  \n",
              "std    1.728061e+07  \n",
              "min    1.016429e+05  \n",
              "25%    3.150120e+05  \n",
              "50%    1.158601e+06  \n",
              "75%    5.450468e+06  \n",
              "max    1.611939e+08  "
            ],
            "text/html": [
              "\n",
              "  <div id=\"df-668c6769-d9ef-46ea-a259-4d33f1bf0e2d\">\n",
              "    <div class=\"colab-df-container\">\n",
              "      <div>\n",
              "<style scoped>\n",
              "    .dataframe tbody tr th:only-of-type {\n",
              "        vertical-align: middle;\n",
              "    }\n",
              "\n",
              "    .dataframe tbody tr th {\n",
              "        vertical-align: top;\n",
              "    }\n",
              "\n",
              "    .dataframe thead th {\n",
              "        text-align: right;\n",
              "    }\n",
              "</style>\n",
              "<table border=\"1\" class=\"dataframe\">\n",
              "  <thead>\n",
              "    <tr style=\"text-align: right;\">\n",
              "      <th></th>\n",
              "      <th>Pop_2009</th>\n",
              "      <th>Pop_2019</th>\n",
              "      <th>Den_2009</th>\n",
              "      <th>Den_2019</th>\n",
              "      <th>Shape_Leng</th>\n",
              "      <th>Shape_Area</th>\n",
              "    </tr>\n",
              "  </thead>\n",
              "  <tbody>\n",
              "    <tr>\n",
              "      <th>count</th>\n",
              "      <td>322.000000</td>\n",
              "      <td>322.000000</td>\n",
              "      <td>322.000000</td>\n",
              "      <td>322.000000</td>\n",
              "      <td>322.000000</td>\n",
              "      <td>3.220000e+02</td>\n",
              "    </tr>\n",
              "    <tr>\n",
              "      <th>mean</th>\n",
              "      <td>22244.919255</td>\n",
              "      <td>27928.826087</td>\n",
              "      <td>27795.568936</td>\n",
              "      <td>28131.416022</td>\n",
              "      <td>9190.489424</td>\n",
              "      <td>6.549688e+06</td>\n",
              "    </tr>\n",
              "    <tr>\n",
              "      <th>std</th>\n",
              "      <td>13918.047885</td>\n",
              "      <td>21665.910645</td>\n",
              "      <td>23970.486237</td>\n",
              "      <td>22390.673711</td>\n",
              "      <td>10202.759602</td>\n",
              "      <td>1.728061e+07</td>\n",
              "    </tr>\n",
              "    <tr>\n",
              "      <th>min</th>\n",
              "      <td>4419.000000</td>\n",
              "      <td>223.000000</td>\n",
              "      <td>33.942700</td>\n",
              "      <td>32.670100</td>\n",
              "      <td>1542.240501</td>\n",
              "      <td>1.016429e+05</td>\n",
              "    </tr>\n",
              "    <tr>\n",
              "      <th>25%</th>\n",
              "      <td>11725.750000</td>\n",
              "      <td>12238.750000</td>\n",
              "      <td>4690.145000</td>\n",
              "      <td>7204.712500</td>\n",
              "      <td>2699.992368</td>\n",
              "      <td>3.150120e+05</td>\n",
              "    </tr>\n",
              "    <tr>\n",
              "      <th>50%</th>\n",
              "      <td>18661.500000</td>\n",
              "      <td>21796.500000</td>\n",
              "      <td>24661.350000</td>\n",
              "      <td>27524.750000</td>\n",
              "      <td>5074.050112</td>\n",
              "      <td>1.158601e+06</td>\n",
              "    </tr>\n",
              "    <tr>\n",
              "      <th>75%</th>\n",
              "      <td>26935.500000</td>\n",
              "      <td>36412.250000</td>\n",
              "      <td>45075.875000</td>\n",
              "      <td>44157.875000</td>\n",
              "      <td>12480.323236</td>\n",
              "      <td>5.450468e+06</td>\n",
              "    </tr>\n",
              "    <tr>\n",
              "      <th>max</th>\n",
              "      <td>98483.000000</td>\n",
              "      <td>124709.000000</td>\n",
              "      <td>101839.000000</td>\n",
              "      <td>96188.700000</td>\n",
              "      <td>68958.528608</td>\n",
              "      <td>1.611939e+08</td>\n",
              "    </tr>\n",
              "  </tbody>\n",
              "</table>\n",
              "</div>\n",
              "      <button class=\"colab-df-convert\" onclick=\"convertToInteractive('df-668c6769-d9ef-46ea-a259-4d33f1bf0e2d')\"\n",
              "              title=\"Convert this dataframe to an interactive table.\"\n",
              "              style=\"display:none;\">\n",
              "        \n",
              "  <svg xmlns=\"http://www.w3.org/2000/svg\" height=\"24px\"viewBox=\"0 0 24 24\"\n",
              "       width=\"24px\">\n",
              "    <path d=\"M0 0h24v24H0V0z\" fill=\"none\"/>\n",
              "    <path d=\"M18.56 5.44l.94 2.06.94-2.06 2.06-.94-2.06-.94-.94-2.06-.94 2.06-2.06.94zm-11 1L8.5 8.5l.94-2.06 2.06-.94-2.06-.94L8.5 2.5l-.94 2.06-2.06.94zm10 10l.94 2.06.94-2.06 2.06-.94-2.06-.94-.94-2.06-.94 2.06-2.06.94z\"/><path d=\"M17.41 7.96l-1.37-1.37c-.4-.4-.92-.59-1.43-.59-.52 0-1.04.2-1.43.59L10.3 9.45l-7.72 7.72c-.78.78-.78 2.05 0 2.83L4 21.41c.39.39.9.59 1.41.59.51 0 1.02-.2 1.41-.59l7.78-7.78 2.81-2.81c.8-.78.8-2.07 0-2.86zM5.41 20L4 18.59l7.72-7.72 1.47 1.35L5.41 20z\"/>\n",
              "  </svg>\n",
              "      </button>\n",
              "      \n",
              "  <style>\n",
              "    .colab-df-container {\n",
              "      display:flex;\n",
              "      flex-wrap:wrap;\n",
              "      gap: 12px;\n",
              "    }\n",
              "\n",
              "    .colab-df-convert {\n",
              "      background-color: #E8F0FE;\n",
              "      border: none;\n",
              "      border-radius: 50%;\n",
              "      cursor: pointer;\n",
              "      display: none;\n",
              "      fill: #1967D2;\n",
              "      height: 32px;\n",
              "      padding: 0 0 0 0;\n",
              "      width: 32px;\n",
              "    }\n",
              "\n",
              "    .colab-df-convert:hover {\n",
              "      background-color: #E2EBFA;\n",
              "      box-shadow: 0px 1px 2px rgba(60, 64, 67, 0.3), 0px 1px 3px 1px rgba(60, 64, 67, 0.15);\n",
              "      fill: #174EA6;\n",
              "    }\n",
              "\n",
              "    [theme=dark] .colab-df-convert {\n",
              "      background-color: #3B4455;\n",
              "      fill: #D2E3FC;\n",
              "    }\n",
              "\n",
              "    [theme=dark] .colab-df-convert:hover {\n",
              "      background-color: #434B5C;\n",
              "      box-shadow: 0px 1px 3px 1px rgba(0, 0, 0, 0.15);\n",
              "      filter: drop-shadow(0px 1px 2px rgba(0, 0, 0, 0.3));\n",
              "      fill: #FFFFFF;\n",
              "    }\n",
              "  </style>\n",
              "\n",
              "      <script>\n",
              "        const buttonEl =\n",
              "          document.querySelector('#df-668c6769-d9ef-46ea-a259-4d33f1bf0e2d button.colab-df-convert');\n",
              "        buttonEl.style.display =\n",
              "          google.colab.kernel.accessAllowed ? 'block' : 'none';\n",
              "\n",
              "        async function convertToInteractive(key) {\n",
              "          const element = document.querySelector('#df-668c6769-d9ef-46ea-a259-4d33f1bf0e2d');\n",
              "          const dataTable =\n",
              "            await google.colab.kernel.invokeFunction('convertToInteractive',\n",
              "                                                     [key], {});\n",
              "          if (!dataTable) return;\n",
              "\n",
              "          const docLinkHtml = 'Like what you see? Visit the ' +\n",
              "            '<a target=\"_blank\" href=https://colab.research.google.com/notebooks/data_table.ipynb>data table notebook</a>'\n",
              "            + ' to learn more about interactive tables.';\n",
              "          element.innerHTML = '';\n",
              "          dataTable['output_type'] = 'display_data';\n",
              "          await google.colab.output.renderOutput(dataTable, element);\n",
              "          const docLink = document.createElement('div');\n",
              "          docLink.innerHTML = docLinkHtml;\n",
              "          element.appendChild(docLink);\n",
              "        }\n",
              "      </script>\n",
              "    </div>\n",
              "  </div>\n",
              "  "
            ]
          },
          "metadata": {},
          "execution_count": 21
        }
      ]
    },
    {
      "cell_type": "code",
      "source": [
        "data.info()"
      ],
      "metadata": {
        "colab": {
          "base_uri": "https://localhost:8080/"
        },
        "id": "Fo2FHPlAJsLT",
        "outputId": "8fc9995b-dcbf-4d73-9e4b-0450ceddbd72"
      },
      "execution_count": 22,
      "outputs": [
        {
          "output_type": "stream",
          "name": "stdout",
          "text": [
            "<class 'geopandas.geodataframe.GeoDataFrame'>\n",
            "RangeIndex: 322 entries, 0 to 321\n",
            "Data columns (total 12 columns):\n",
            " #   Column      Non-Null Count  Dtype   \n",
            "---  ------      --------------  -----   \n",
            " 0   Com_Name    322 non-null    object  \n",
            " 1   Dist_Name   322 non-null    object  \n",
            " 2   Com_ID      322 non-null    object  \n",
            " 3   Dist_ID     322 non-null    object  \n",
            " 4   Level       322 non-null    object  \n",
            " 5   Pop_2009    322 non-null    float64 \n",
            " 6   Pop_2019    322 non-null    float64 \n",
            " 7   Den_2009    322 non-null    float64 \n",
            " 8   Den_2019    322 non-null    float64 \n",
            " 9   Shape_Leng  322 non-null    float64 \n",
            " 10  Shape_Area  322 non-null    float64 \n",
            " 11  geometry    322 non-null    geometry\n",
            "dtypes: float64(6), geometry(1), object(5)\n",
            "memory usage: 30.3+ KB\n"
          ]
        }
      ]
    },
    {
      "cell_type": "markdown",
      "source": [
        "# PHƯỜNG NÀO CÓ DIỆN TÍCH LỚN NHẤT"
      ],
      "metadata": {
        "id": "ul-Z4IfQKD3e"
      }
    },
    {
      "cell_type": "code",
      "source": [
        "max_area_ward = data[\"Com_Name\"][list(data[\"Shape_Area\"]).index(max(data[\"Shape_Area\"]))]\n",
        "max_area_ward"
      ],
      "metadata": {
        "colab": {
          "base_uri": "https://localhost:8080/",
          "height": 36
        },
        "id": "0B-FLVJKKChZ",
        "outputId": "40dcc524-8ac0-42b5-a7b7-12ddcce6cc94"
      },
      "execution_count": 94,
      "outputs": [
        {
          "output_type": "execute_result",
          "data": {
            "text/plain": [
              "'Ly Nhon'"
            ],
            "application/vnd.google.colaboratory.intrinsic+json": {
              "type": "string"
            }
          },
          "metadata": {},
          "execution_count": 94
        }
      ]
    },
    {
      "cell_type": "code",
      "source": [
        "print(\"Phường có diện tích lớn nhất là phường\", max_area_ward, \"quận\", data[\"Dist_Name\"][list(data[\"Com_Name\"]).index(max_area_ward)])"
      ],
      "metadata": {
        "colab": {
          "base_uri": "https://localhost:8080/"
        },
        "id": "Cz2XLE5sMBSh",
        "outputId": "a225fb99-3c8c-4683-c2c6-69add7a6d16e"
      },
      "execution_count": 77,
      "outputs": [
        {
          "output_type": "stream",
          "name": "stdout",
          "text": [
            "Phường có diện tích lớn nhất là phường Ly Nhon quận Can Gio\n"
          ]
        }
      ]
    },
    {
      "cell_type": "markdown",
      "source": [
        "# PHƯỜNG NÀO CÓ DÂN SỐ 2019 (Pop_2019) cao nhất"
      ],
      "metadata": {
        "id": "3BG2-6BWMb5R"
      }
    },
    {
      "cell_type": "code",
      "source": [
        "max_population_ward = data[\"Com_Name\"][list(data[\"Pop_2019\"]).index(max(data[\"Pop_2019\"]))]\n",
        "max_population_ward"
      ],
      "metadata": {
        "colab": {
          "base_uri": "https://localhost:8080/",
          "height": 36
        },
        "id": "VAgDya8wMYcU",
        "outputId": "ab2d2db2-95b7-447f-cea7-ea8b6c70e372"
      },
      "execution_count": 39,
      "outputs": [
        {
          "output_type": "execute_result",
          "data": {
            "text/plain": [
              "'Vinh Loc A'"
            ],
            "application/vnd.google.colaboratory.intrinsic+json": {
              "type": "string"
            }
          },
          "metadata": {},
          "execution_count": 39
        }
      ]
    },
    {
      "cell_type": "code",
      "source": [
        "print(\"Phường có dân số lớn nhất năm 2019 là\", max_population_ward, \"quận\", data[\"Dist_Name\"][list(data[\"Com_Name\"]).index(max_population_ward)])"
      ],
      "metadata": {
        "colab": {
          "base_uri": "https://localhost:8080/"
        },
        "id": "3DRPdebGMuqO",
        "outputId": "c5a4fa29-ec81-45bd-c6fe-cd253bb1c219"
      },
      "execution_count": 79,
      "outputs": [
        {
          "output_type": "stream",
          "name": "stdout",
          "text": [
            "Phường có dân số lớn nhất năm 2019 là Vinh Loc A quận Binh Chanh\n"
          ]
        }
      ]
    },
    {
      "cell_type": "markdown",
      "source": [
        "# PHƯỜNG NÀO CÓ DIỆN TÍCH NHỎ NHẤT"
      ],
      "metadata": {
        "id": "owovMfcbM9Nh"
      }
    },
    {
      "cell_type": "code",
      "source": [
        "min_area_ward = data[\"Com_Name\"][list(data[\"Shape_Area\"]).index(min(data[\"Shape_Area\"]))]\n",
        "min_area_ward"
      ],
      "metadata": {
        "colab": {
          "base_uri": "https://localhost:8080/",
          "height": 36
        },
        "id": "hkwVBsAmNAEU",
        "outputId": "66127230-d87b-4d30-f922-1c705d5fc5cf"
      },
      "execution_count": 44,
      "outputs": [
        {
          "output_type": "execute_result",
          "data": {
            "text/plain": [
              "'Ward 3'"
            ],
            "application/vnd.google.colaboratory.intrinsic+json": {
              "type": "string"
            }
          },
          "metadata": {},
          "execution_count": 44
        }
      ]
    },
    {
      "cell_type": "code",
      "source": [
        "print(\"Phường có diện tích nhỏ nhất là \", min_area_ward, \"quận\", data[\"Dist_Name\"][list(data[\"Com_Name\"]).index(min_area_ward)])"
      ],
      "metadata": {
        "colab": {
          "base_uri": "https://localhost:8080/"
        },
        "id": "lwb3ML1BNEdq",
        "outputId": "09378e9a-d7e5-4ca5-9d63-6ed7050d926e"
      },
      "execution_count": 78,
      "outputs": [
        {
          "output_type": "stream",
          "name": "stdout",
          "text": [
            "Phường có diện tích nhỏ nhất là  Ward 3 quận District 3\n"
          ]
        }
      ]
    },
    {
      "cell_type": "markdown",
      "source": [
        "# PHƯỜNG NÀO CÓ DÂN SỐ THẤP NHẤT (2019)"
      ],
      "metadata": {
        "id": "I3AUk8zMNdFe"
      }
    },
    {
      "cell_type": "code",
      "source": [
        "min_population_ward = data[\"Com_Name\"][list(data[\"Pop_2019\"]).index(min(data[\"Pop_2019\"]))]\n",
        "min_population_ward"
      ],
      "metadata": {
        "colab": {
          "base_uri": "https://localhost:8080/",
          "height": 36
        },
        "id": "YLTZnZRjNblh",
        "outputId": "3c83457d-bcc0-445c-af9d-68853f76d1a9"
      },
      "execution_count": 48,
      "outputs": [
        {
          "output_type": "execute_result",
          "data": {
            "text/plain": [
              "'An Khanh'"
            ],
            "application/vnd.google.colaboratory.intrinsic+json": {
              "type": "string"
            }
          },
          "metadata": {},
          "execution_count": 48
        }
      ]
    },
    {
      "cell_type": "code",
      "source": [
        "print(\"Phường có dân số thấp nhất năm 2019 là\", min_population_ward, \"quận\", data[\"Dist_Name\"][list(data[\"Com_Name\"]).index(min_population_ward)])"
      ],
      "metadata": {
        "colab": {
          "base_uri": "https://localhost:8080/"
        },
        "id": "sGnQDGChNpDo",
        "outputId": "137ff77d-4827-4b7a-f57e-9da70d5a9c4e"
      },
      "execution_count": 80,
      "outputs": [
        {
          "output_type": "stream",
          "name": "stdout",
          "text": [
            "Phường có dân số thấp nhất năm 2019 là An Khanh quận District 2\n"
          ]
        }
      ]
    },
    {
      "cell_type": "markdown",
      "source": [
        "# PHƯỜNG NÀO CÓ TỐC ĐỘ TĂNG TRƯỞNG DÂN SỐ NHANH NHẤT 2009-2019"
      ],
      "metadata": {
        "id": "kY_orEswOcWT"
      }
    },
    {
      "cell_type": "code",
      "source": [
        "percent_increase = (data.loc[0, \"Pop_2019\"] - data.loc[0, \"Pop_2009\"])/data.loc[0, \"Pop_2009\"]\n",
        "ind = 0\n",
        "for i in range(1, len(data[\"Pop_2019\"])):\n",
        "  t = (data.loc[i, \"Pop_2019\"] - data.loc[i, \"Pop_2009\"])/data.loc[i, \"Pop_2009\"]\n",
        "  if t > percent_increase: \n",
        "    percent_increase = t\n",
        "    ind = i\n",
        "\n",
        "print(\"Phường có tốc độ tăng trưởng dân số nhanh nhất là\", data.loc[ind, \"Com_Name\"], \"quận\", data.loc[ind, \"Dist_Name\"])"
      ],
      "metadata": {
        "colab": {
          "base_uri": "https://localhost:8080/"
        },
        "id": "TVNjUMYaNvWg",
        "outputId": "ab6f62eb-ab47-4ae9-8d5e-aa8cac346e0f"
      },
      "execution_count": 87,
      "outputs": [
        {
          "output_type": "stream",
          "name": "stdout",
          "text": [
            "Phường có tốc độ tăng trưởng dân số nhanh nhất là Phu Huu quận District 9\n"
          ]
        }
      ]
    },
    {
      "cell_type": "markdown",
      "source": [
        "# PHƯỜNG NÀO CÓ TỐC ĐỘ TĂNG TRƯỞNG DÂN SỐ THẤP NHẤT 2009-2019"
      ],
      "metadata": {
        "id": "YtBlvVvOPx11"
      }
    },
    {
      "cell_type": "code",
      "source": [
        "percent_increase = (data.loc[0, \"Pop_2019\"] - data.loc[0, \"Pop_2009\"])/data.loc[0, \"Pop_2009\"]\n",
        "ind = 0\n",
        "for i in range(1, len(data[\"Pop_2019\"])):\n",
        "  t = (data.loc[i, \"Pop_2019\"] - data.loc[i, \"Pop_2009\"])/data.loc[i, \"Pop_2009\"]\n",
        "  if t < percent_increase: \n",
        "    percent_increase = t\n",
        "    ind = i\n",
        "\n",
        "print(\"Phường có tốc độ tăng trưởng dân số thấp nhất là\", data.loc[ind, \"Com_Name\"], \"quận\", data.loc[ind, \"Dist_Name\"])"
      ],
      "metadata": {
        "colab": {
          "base_uri": "https://localhost:8080/"
        },
        "id": "Rx7MGQ-gPMjl",
        "outputId": "fecfbb71-4537-46f8-c965-4ee6e4d7ea52"
      },
      "execution_count": 88,
      "outputs": [
        {
          "output_type": "stream",
          "name": "stdout",
          "text": [
            "Phường có tốc độ tăng trưởng dân số thấp nhất là An Khanh quận District 2\n"
          ]
        }
      ]
    },
    {
      "cell_type": "markdown",
      "source": [
        "# PHƯỜNG NÀO CÓ BIẾN ĐỘNG DÂN SỐ NHANH NHẤT"
      ],
      "metadata": {
        "id": "DssPFspvQKCV"
      }
    },
    {
      "cell_type": "code",
      "source": [
        "increase = abs(data.loc[0, \"Pop_2019\"] - data.loc[0, \"Pop_2009\"])\n",
        "ind = 0\n",
        "for i in range(1, len(data[\"Pop_2019\"])):\n",
        "  t = abs(data.loc[i, \"Pop_2019\"] - data.loc[i, \"Pop_2009\"])\n",
        "  if t > percent_increase: \n",
        "    percent_increase = t\n",
        "    ind = i\n",
        "\n",
        "print(\"Phường có biến động dân số nhanh nhất là\", data.loc[ind, \"Com_Name\"], \"quận\", data.loc[ind, \"Dist_Name\"])"
      ],
      "metadata": {
        "colab": {
          "base_uri": "https://localhost:8080/"
        },
        "id": "txCIGBRkQQ-F",
        "outputId": "bc3e6ad7-dea1-401a-f58d-d1e78829b22d"
      },
      "execution_count": 89,
      "outputs": [
        {
          "output_type": "stream",
          "name": "stdout",
          "text": [
            "Phường có biến động dân số nhanh nhất là Vinh Loc A quận Binh Chanh\n"
          ]
        }
      ]
    },
    {
      "cell_type": "markdown",
      "source": [
        "# PHƯỜNG NÀO CÓ BIẾN ĐỘNG DÂN SỐ CHẬM NHẤT"
      ],
      "metadata": {
        "id": "3Nve98SEQlLG"
      }
    },
    {
      "cell_type": "code",
      "source": [
        "change = abs(data.loc[0, \"Pop_2019\"] - data.loc[0, \"Pop_2009\"])\n",
        "ind = 0\n",
        "for i in range(1, len(data[\"Pop_2019\"])):\n",
        "  t = abs(data.loc[i, \"Pop_2019\"] - data.loc[i, \"Pop_2009\"])\n",
        "  if t < percent_increase: \n",
        "    percent_increase = t\n",
        "    ind = i\n",
        "\n",
        "print(\"Phường có biến động dân số chậm nhất là:\", data.loc[ind, \"Com_Name\"], \"quận\", data.loc[ind, \"Dist_Name\"])"
      ],
      "metadata": {
        "colab": {
          "base_uri": "https://localhost:8080/"
        },
        "id": "8ffkXmU2Qkbo",
        "outputId": "939bbd62-b3e9-4b7a-ed05-f653727a69f5"
      },
      "execution_count": 90,
      "outputs": [
        {
          "output_type": "stream",
          "name": "stdout",
          "text": [
            "Phường có biến động dân số chậm nhất là: Ward 2 quận Binh Thanh\n"
          ]
        }
      ]
    },
    {
      "cell_type": "markdown",
      "source": [
        "# PHƯỜNG NÀO CÓ MẬT ĐỘ DÂN SỐ CAO NHẤT (2019)"
      ],
      "metadata": {
        "id": "GsmmojtEQ0yo"
      }
    },
    {
      "cell_type": "code",
      "source": [
        "max_density_ward = data[\"Com_Name\"][list(data[\"Den_2019\"]).index(max(data[\"Den_2019\"]))]\n",
        "max_density_ward"
      ],
      "metadata": {
        "colab": {
          "base_uri": "https://localhost:8080/",
          "height": 36
        },
        "id": "u3ROaf-bQ9Hk",
        "outputId": "eadf5289-6e9c-4053-9032-0d2e2b4365a9"
      },
      "execution_count": 61,
      "outputs": [
        {
          "output_type": "execute_result",
          "data": {
            "text/plain": [
              "'Ward 8'"
            ],
            "application/vnd.google.colaboratory.intrinsic+json": {
              "type": "string"
            }
          },
          "metadata": {},
          "execution_count": 61
        }
      ]
    },
    {
      "cell_type": "code",
      "source": [
        "print(\"Phường có mật độ dân số lớn nhất là\", max_density_ward, \"quận\", data[\"Dist_Name\"][list(data[\"Com_Name\"]).index(max_density_ward)])"
      ],
      "metadata": {
        "colab": {
          "base_uri": "https://localhost:8080/"
        },
        "outputId": "d1f020a8-8dfa-490f-b033-a0ea4c1b4230",
        "id": "Ch2xchsRQ9Hk"
      },
      "execution_count": 91,
      "outputs": [
        {
          "output_type": "stream",
          "name": "stdout",
          "text": [
            "Phường có mật độ dân số lớn nhất là Ward 8 quận District 3\n"
          ]
        }
      ]
    },
    {
      "cell_type": "markdown",
      "source": [
        "# PHƯỜNG NÀO CÓ MẬT ĐỘ DÂN SỐ THẤP NHẤT (2019)"
      ],
      "metadata": {
        "id": "VlLkm2IGRQf0"
      }
    },
    {
      "cell_type": "code",
      "source": [
        "min_density_ward = data[\"Com_Name\"][list(data[\"Den_2019\"]).index(min(data[\"Den_2019\"]))]\n",
        "min_density_ward"
      ],
      "metadata": {
        "colab": {
          "base_uri": "https://localhost:8080/",
          "height": 36
        },
        "outputId": "63a4cf12-278b-472c-f1f4-be3043071dd9",
        "id": "pZbowUKORVWG"
      },
      "execution_count": 64,
      "outputs": [
        {
          "output_type": "execute_result",
          "data": {
            "text/plain": [
              "'Ly Nhon'"
            ],
            "application/vnd.google.colaboratory.intrinsic+json": {
              "type": "string"
            }
          },
          "metadata": {},
          "execution_count": 64
        }
      ]
    },
    {
      "cell_type": "code",
      "source": [
        "print(\"Phường có mật độ dân số thấp nhất là\", min_density_ward, \"quận\", data[\"Dist_Name\"][list(data[\"Com_Name\"]).index(min_density_ward)])"
      ],
      "metadata": {
        "colab": {
          "base_uri": "https://localhost:8080/"
        },
        "outputId": "faa24788-6d6a-48a9-9277-9a767f0805b4",
        "id": "kcG0bvBDRVWH"
      },
      "execution_count": 93,
      "outputs": [
        {
          "output_type": "stream",
          "name": "stdout",
          "text": [
            "Phường có mật độ dân số thấp nhất là Ly Nhon quận Can Gio\n"
          ]
        }
      ]
    }
  ]
}